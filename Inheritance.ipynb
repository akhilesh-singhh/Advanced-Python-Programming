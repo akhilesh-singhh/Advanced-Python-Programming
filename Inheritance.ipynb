{
  "nbformat": 4,
  "nbformat_minor": 0,
  "metadata": {
    "colab": {
      "provenance": []
    },
    "kernelspec": {
      "name": "python3",
      "display_name": "Python 3"
    },
    "language_info": {
      "name": "python"
    }
  },
  "cells": [
    {
      "cell_type": "code",
      "execution_count": null,
      "metadata": {
        "colab": {
          "base_uri": "https://localhost:8080/"
        },
        "id": "dl9L_Gjzv2oW",
        "outputId": "f2b635ba-9892-4144-a035-bc9ef3933207"
      },
      "outputs": [
        {
          "output_type": "stream",
          "name": "stdout",
          "text": [
            "feat1 works\n",
            "feat2 works\n"
          ]
        }
      ],
      "source": [
        "class A:\n",
        "  def feat1(self):\n",
        "    print(\"feat1 works\")\n",
        "  def feat2(self):\n",
        "    print(\"feat2 works\")\n",
        "\n",
        "a1=A()\n",
        "a1.feat1()\n",
        "a1.feat2()"
      ]
    },
    {
      "cell_type": "code",
      "source": [
        "class A:\n",
        "  def feat1(self):\n",
        "    print(\"feat1 works\")\n",
        "  def feat2(self):\n",
        "    print(\"feat2 works\")\n",
        "\n",
        "class B():\n",
        "  def feat3(self):\n",
        "    print(\"feat3 works\")\n",
        "\n",
        "  def feat4(self):\n",
        "    print(\"feat4 works\")\n",
        "\n",
        "b1=B()\n",
        "b1.feat1()\n",
        "b1.feat2()\n",
        "b1.feat3()\n",
        "b1.feat4()"
      ],
      "metadata": {
        "colab": {
          "base_uri": "https://localhost:8080/",
          "height": 211
        },
        "id": "SG4HPXyjxnWJ",
        "outputId": "5c5cbc55-a46e-49a6-e173-cc69ffb3bfc0"
      },
      "execution_count": null,
      "outputs": [
        {
          "output_type": "error",
          "ename": "AttributeError",
          "evalue": "'B' object has no attribute 'feat1'",
          "traceback": [
            "\u001b[0;31m---------------------------------------------------------------------------\u001b[0m",
            "\u001b[0;31mAttributeError\u001b[0m                            Traceback (most recent call last)",
            "\u001b[0;32m<ipython-input-5-d08ee8f52471>\u001b[0m in \u001b[0;36m<cell line: 0>\u001b[0;34m()\u001b[0m\n\u001b[1;32m     13\u001b[0m \u001b[0;34m\u001b[0m\u001b[0m\n\u001b[1;32m     14\u001b[0m \u001b[0mb1\u001b[0m\u001b[0;34m=\u001b[0m\u001b[0mB\u001b[0m\u001b[0;34m(\u001b[0m\u001b[0;34m)\u001b[0m\u001b[0;34m\u001b[0m\u001b[0;34m\u001b[0m\u001b[0m\n\u001b[0;32m---> 15\u001b[0;31m \u001b[0mb1\u001b[0m\u001b[0;34m.\u001b[0m\u001b[0mfeat1\u001b[0m\u001b[0;34m(\u001b[0m\u001b[0;34m)\u001b[0m\u001b[0;34m\u001b[0m\u001b[0;34m\u001b[0m\u001b[0m\n\u001b[0m\u001b[1;32m     16\u001b[0m \u001b[0mb1\u001b[0m\u001b[0;34m.\u001b[0m\u001b[0mfeat2\u001b[0m\u001b[0;34m(\u001b[0m\u001b[0;34m)\u001b[0m\u001b[0;34m\u001b[0m\u001b[0;34m\u001b[0m\u001b[0m\n\u001b[1;32m     17\u001b[0m \u001b[0mb1\u001b[0m\u001b[0;34m.\u001b[0m\u001b[0mfeat3\u001b[0m\u001b[0;34m(\u001b[0m\u001b[0;34m)\u001b[0m\u001b[0;34m\u001b[0m\u001b[0;34m\u001b[0m\u001b[0m\n",
            "\u001b[0;31mAttributeError\u001b[0m: 'B' object has no attribute 'feat1'"
          ]
        }
      ]
    },
    {
      "cell_type": "code",
      "source": [
        "class A:\n",
        "  def feat1(self):\n",
        "    print(\"feat1 works\")\n",
        "  def feat2(self):\n",
        "    print(\"feat2 works\")\n",
        "\n",
        "class B(A):\n",
        "  def feat3(self):\n",
        "    print(\"feat3 works\")\n",
        "\n",
        "  def feat4(self):\n",
        "    print(\"feat4 works\")\n",
        "\n",
        "b1=B()\n",
        "b1.feat1()\n",
        "b1.feat2()\n",
        "b1.feat3()\n",
        "b1.feat4()\n",
        "\n"
      ],
      "metadata": {
        "colab": {
          "base_uri": "https://localhost:8080/"
        },
        "id": "SOR7IxlgwV1s",
        "outputId": "2223beba-c782-4c9c-90e7-b2de807f2cb1"
      },
      "execution_count": null,
      "outputs": [
        {
          "output_type": "stream",
          "name": "stdout",
          "text": [
            "feat1 works\n",
            "feat2 works\n",
            "feat3 works\n",
            "feat4 works\n"
          ]
        }
      ]
    },
    {
      "cell_type": "code",
      "source": [
        "class A:\n",
        "  def feat1(self):\n",
        "    print(\"feat1 works\")\n",
        "  def feat2(self):\n",
        "    print(\"feat2 works\")\n",
        "\n",
        "class B(A):\n",
        "  def feat3(self):\n",
        "    print(\"feat3 works\")\n",
        "\n",
        "  def feat4(self):\n",
        "    print(\"feat4 works\")\n",
        "\n",
        "class C(B):\n",
        "  def feat5(self):\n",
        "    print(\"feat5 works\")\n",
        "\n",
        "  def feat6(self):\n",
        "    print(\"feat6 works\")\n",
        "\n",
        "c1=C()\n",
        "c1.feat5()\n",
        "c1.feat3()\n",
        "c1.feat2()\n"
      ],
      "metadata": {
        "colab": {
          "base_uri": "https://localhost:8080/"
        },
        "id": "L47Zc4mg7-fs",
        "outputId": "ae6449d5-af43-47fb-ca11-47ccaa9b4181"
      },
      "execution_count": null,
      "outputs": [
        {
          "output_type": "stream",
          "name": "stdout",
          "text": [
            "feat5 works\n",
            "feat3 works\n",
            "feat2 works\n"
          ]
        }
      ]
    },
    {
      "cell_type": "code",
      "source": [
        "class A:\n",
        "  def feat1(self):\n",
        "    print(\"feat1 works\")\n",
        "  def feat2(self):\n",
        "    print(\"feat2 works\")\n",
        "\n",
        "class B:\n",
        "  def feat3(self):\n",
        "    print(\"feat3 works\")\n",
        "\n",
        "  def feat4(self):\n",
        "    print(\"feat4 works\")\n",
        "\n",
        "class C(A, B):\n",
        "  def feat5(self):\n",
        "    print(\"feat5 works\")\n",
        "\n",
        "  def feat6(self):\n",
        "    print(\"feat6 works\")\n",
        "\n",
        "\n",
        "c1=C()\n",
        "c1.feat1()\n",
        "c1.feat2()\n"
      ],
      "metadata": {
        "colab": {
          "base_uri": "https://localhost:8080/"
        },
        "id": "Mwd3eUAV8ero",
        "outputId": "9ff4f928-d24b-4c37-e96b-99cf16f45000"
      },
      "execution_count": null,
      "outputs": [
        {
          "output_type": "stream",
          "name": "stdout",
          "text": [
            "feat1 works\n",
            "feat2 works\n"
          ]
        }
      ]
    },
    {
      "cell_type": "code",
      "source": [],
      "metadata": {
        "id": "vTHVD6Ft8n5o"
      },
      "execution_count": null,
      "outputs": []
    }
  ]
}